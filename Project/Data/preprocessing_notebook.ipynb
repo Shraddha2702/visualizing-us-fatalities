{
 "cells": [
  {
   "cell_type": "code",
   "execution_count": 1,
   "metadata": {},
   "outputs": [],
   "source": [
    "import pandas as pd\n",
    "import numpy as np\n",
    "import warnings\n",
    "warnings.filterwarnings('ignore')"
   ]
  },
  {
   "cell_type": "code",
   "execution_count": 2,
   "metadata": {},
   "outputs": [
    {
     "name": "stdout",
     "output_type": "stream",
     "text": [
      "LineChart.csv                p4-d2.csv\r\n",
      "\u001b[34marea\u001b[m\u001b[m                         p4-final.csv\r\n",
      "area.csv                     p4-script.py\r\n",
      "bubblechart.json             preprocessing_notebook.ipynb\r\n",
      "choropleth_data.csv          sankey-data.json\r\n",
      "cities.csv                   stacked-bar-chart.csv\r\n",
      "demo.csv                     stacked-bar-chart.json\r\n",
      "diabetes.csv                 stacked-bar-chart3.csv\r\n",
      "heart-disease.csv            stacked.json\r\n",
      "heatmap.json                 tabledata.json\r\n",
      "p1-d1.csv                    tb-data.csv\r\n",
      "p2-d1.csv                    us.json\r\n",
      "p2-d2.csv                    usmap.json\r\n",
      "p4-d1.csv\r\n"
     ]
    }
   ],
   "source": [
    "!ls"
   ]
  },
  {
   "cell_type": "code",
   "execution_count": 36,
   "metadata": {},
   "outputs": [],
   "source": [
    "file = pd.read_csv('tb-data.csv', header=None)"
   ]
  },
  {
   "cell_type": "code",
   "execution_count": 37,
   "metadata": {},
   "outputs": [
    {
     "data": {
      "text/plain": [
       "0                     Utah ' 100.0 100.0\n",
       "1                New Mexico ' 100.0 97.1\n",
       "2                 Oklahoma ' 100.0 96.2 \n",
       "3     District of Columbia ' 100.0 92.6 \n",
       "4                    Maine ' 100.0 91.7 \n",
       "5                Wisconsin ' 100.0 89.5 \n",
       "6                    Kansas ' 83.3 94.3 \n",
       "7                  Nebraska ' 0.0 100.0 \n",
       "8                   Delaware ' 0.0 89.5 \n",
       "9                  Baltimore ' 0.0 88.2 \n",
       "10               North Dakota ' 0.0 70.0\n",
       "11             Connecticut ' 100.0 98.0 \n",
       "12                  Nevada ' 100.0 96.9 \n",
       "13           South Carolina ' 100.0 96.9\n",
       "14                 Indiana ' 100.0 94.4 \n",
       "15               Minnesota ' 100.0 94.2 \n",
       "16                   Hawaii ' 90.0 99.2 \n",
       "17                   Oregon ' 87.5 96.5 \n",
       "18                   Alaska ' 85.7 94.4 \n",
       "19            San Francisco ' 83.3 85.9 \n",
       "20                 Kentucky ' 80.0 96.7 \n",
       "21                  Alabama ' 80.0 94.6 \n",
       "22              Mississippi ' 80.0 89.1 \n",
       "23                 Michigan ' 75.0 98.8 \n",
       "24                 Arkansas ' 75.0 83.6 \n",
       "25                   Chicago ' 72.7 93.1\n",
       "26              Philadelphia ' 66.7 67.8\n",
       "27                Louisiana ' 50.0 85.4 \n",
       "28                 Missouri ' 33.3 86.5 \n",
       "29                   Colorado ' 0.0 96.2\n",
       "30          North Carolina ' 100.0 97.5 \n",
       "31                Virginia ' 100.0 95.9 \n",
       "32                New York ' 100.0 95.1 \n",
       "33              New Jersey ' 100.0 95.0 \n",
       "34                    Ohio ' 100.0 94.0 \n",
       "35           Massachusetts ' 100.0 91.8 \n",
       "36                Maryland ' 100.0 91.3 \n",
       "37              Los Angeles ' 94.1 94.1 \n",
       "38            New York City ' 93.8 97.0 \n",
       "39                  Florida ' 90.5 95.7 \n",
       "40                  Georgia ' 83.7 93.0 \n",
       "41                 Illinois ' 83.3 90.7 \n",
       "42                Tennessee ' 80.0 95.3 \n",
       "43                    Texas ' 80.0 93.3 \n",
       "44               California ' 78.6 91.4 \n",
       "45                San Diego ' 75.0 87.7 \n",
       "46                  Houston ' 75.0 85.6 \n",
       "47                  Arizona ' 66.7 90.4 \n",
       "48                Washington ' 63.6 95.1\n",
       "Name: 0, dtype: object"
      ]
     },
     "execution_count": 37,
     "metadata": {},
     "output_type": "execute_result"
    }
   ],
   "source": [
    "file[0]"
   ]
  },
  {
   "cell_type": "code",
   "execution_count": 43,
   "metadata": {},
   "outputs": [
    {
     "data": {
      "text/plain": [
       "['Utah ', ' 100.0 100.0']"
      ]
     },
     "execution_count": 43,
     "metadata": {},
     "output_type": "execute_result"
    }
   ],
   "source": [
    "file[0][0].split(\"'\")"
   ]
  },
  {
   "cell_type": "code",
   "execution_count": 48,
   "metadata": {},
   "outputs": [
    {
     "name": "stdout",
     "output_type": "stream",
     "text": [
      "['', '100.0', '100.0']\n",
      "['', '100.0', '97.1']\n",
      "['', '100.0', '96.2', '']\n",
      "['', '100.0', '92.6', '']\n",
      "['', '100.0', '91.7', '']\n",
      "['', '100.0', '89.5', '']\n",
      "['', '83.3', '94.3', '']\n",
      "['', '0.0', '100.0', '']\n",
      "['', '0.0', '89.5', '']\n",
      "['', '0.0', '88.2', '']\n",
      "['', '0.0', '70.0']\n",
      "['', '100.0', '98.0', '']\n",
      "['', '100.0', '96.9', '']\n",
      "['', '100.0', '96.9']\n",
      "['', '100.0', '94.4', '']\n",
      "['', '100.0', '94.2', '']\n",
      "['', '90.0', '99.2', '']\n",
      "['', '87.5', '96.5', '']\n",
      "['', '85.7', '94.4', '']\n",
      "['', '83.3', '85.9', '']\n",
      "['', '80.0', '96.7', '']\n",
      "['', '80.0', '94.6', '']\n",
      "['', '80.0', '89.1', '']\n",
      "['', '75.0', '98.8', '']\n",
      "['', '75.0', '83.6', '']\n",
      "['', '72.7', '93.1']\n",
      "['', '66.7', '67.8']\n",
      "['', '50.0', '85.4', '']\n",
      "['', '33.3', '86.5', '']\n",
      "['', '0.0', '96.2']\n",
      "['', '100.0', '97.5', '']\n",
      "['', '100.0', '95.9', '']\n",
      "['', '100.0', '95.1', '']\n",
      "['', '100.0', '95.0', '']\n",
      "['', '100.0', '94.0', '']\n",
      "['', '100.0', '91.8', '']\n",
      "['', '100.0', '91.3', '']\n",
      "['', '94.1', '94.1', '']\n",
      "['', '93.8', '97.0', '']\n",
      "['', '90.5', '95.7', '']\n",
      "['', '83.7', '93.0', '']\n",
      "['', '83.3', '90.7', '']\n",
      "['', '80.0', '95.3', '']\n",
      "['', '80.0', '93.3', '']\n",
      "['', '78.6', '91.4', '']\n",
      "['', '75.0', '87.7', '']\n",
      "['', '75.0', '85.6', '']\n",
      "['', '66.7', '90.4', '']\n",
      "['', '63.6', '95.1']\n"
     ]
    }
   ],
   "source": [
    "final = []\n",
    "for i in range(len(file)):\n",
    "    vals = file[0][i].split(\"'\")\n",
    "    temp = []\n",
    "    temp.append(vals[0])\n",
    "    tt = vals[1].split(' ')\n",
    "    print(tt)\n",
    "    temp.append(tt[1])\n",
    "    temp.append(tt[2])\n",
    "    final.append(temp)"
   ]
  },
  {
   "cell_type": "code",
   "execution_count": 49,
   "metadata": {},
   "outputs": [
    {
     "data": {
      "text/plain": [
       "[['Utah ', '100.0', '100.0'],\n",
       " ['New Mexico ', '100.0', '97.1'],\n",
       " ['Oklahoma ', '100.0', '96.2'],\n",
       " ['District of Columbia ', '100.0', '92.6'],\n",
       " ['Maine ', '100.0', '91.7'],\n",
       " ['Wisconsin ', '100.0', '89.5'],\n",
       " ['Kansas ', '83.3', '94.3'],\n",
       " ['Nebraska ', '0.0', '100.0'],\n",
       " ['Delaware ', '0.0', '89.5'],\n",
       " ['Baltimore ', '0.0', '88.2'],\n",
       " ['North Dakota ', '0.0', '70.0'],\n",
       " ['Connecticut ', '100.0', '98.0'],\n",
       " ['Nevada ', '100.0', '96.9'],\n",
       " ['South Carolina ', '100.0', '96.9'],\n",
       " ['Indiana ', '100.0', '94.4'],\n",
       " ['Minnesota ', '100.0', '94.2'],\n",
       " ['Hawaii ', '90.0', '99.2'],\n",
       " ['Oregon ', '87.5', '96.5'],\n",
       " ['Alaska ', '85.7', '94.4'],\n",
       " ['San Francisco ', '83.3', '85.9'],\n",
       " ['Kentucky ', '80.0', '96.7'],\n",
       " ['Alabama ', '80.0', '94.6'],\n",
       " ['Mississippi ', '80.0', '89.1'],\n",
       " ['Michigan ', '75.0', '98.8'],\n",
       " ['Arkansas ', '75.0', '83.6'],\n",
       " ['Chicago ', '72.7', '93.1'],\n",
       " [' Philadelphia ', '66.7', '67.8'],\n",
       " ['Louisiana ', '50.0', '85.4'],\n",
       " ['Missouri ', '33.3', '86.5'],\n",
       " ['Colorado ', '0.0', '96.2'],\n",
       " ['North Carolina ', '100.0', '97.5'],\n",
       " ['Virginia ', '100.0', '95.9'],\n",
       " ['New York ', '100.0', '95.1'],\n",
       " ['New Jersey ', '100.0', '95.0'],\n",
       " ['Ohio ', '100.0', '94.0'],\n",
       " ['Massachusetts ', '100.0', '91.8'],\n",
       " ['Maryland ', '100.0', '91.3'],\n",
       " ['Los Angeles ', '94.1', '94.1'],\n",
       " ['New York City ', '93.8', '97.0'],\n",
       " ['Florida ', '90.5', '95.7'],\n",
       " ['Georgia ', '83.7', '93.0'],\n",
       " ['Illinois ', '83.3', '90.7'],\n",
       " ['Tennessee ', '80.0', '95.3'],\n",
       " ['Texas ', '80.0', '93.3'],\n",
       " ['California ', '78.6', '91.4'],\n",
       " ['San Diego ', '75.0', '87.7'],\n",
       " ['Houston ', '75.0', '85.6'],\n",
       " ['Arizona ', '66.7', '90.4'],\n",
       " ['Washington ', '63.6', '95.1']]"
      ]
     },
     "execution_count": 49,
     "metadata": {},
     "output_type": "execute_result"
    }
   ],
   "source": [
    "final"
   ]
  },
  {
   "cell_type": "code",
   "execution_count": null,
   "metadata": {},
   "outputs": [],
   "source": [
    "pd.DataFrame(final).to_csv('tb-data.csv')"
   ]
  },
  {
   "cell_type": "code",
   "execution_count": null,
   "metadata": {},
   "outputs": [],
   "source": []
  },
  {
   "cell_type": "code",
   "execution_count": 47,
   "metadata": {},
   "outputs": [],
   "source": [
    "pd1 = pd.read_csv('tb-data.csv')\n",
    "pd2 = pd.read_csv('states.csv')"
   ]
  },
  {
   "cell_type": "code",
   "execution_count": 51,
   "metadata": {},
   "outputs": [],
   "source": [
    "pd1['State'] = pd1['State'].astype(str)\n",
    "pd2['State'] = pd2['State'].astype(str)"
   ]
  },
  {
   "cell_type": "code",
   "execution_count": 52,
   "metadata": {},
   "outputs": [
    {
     "data": {
      "text/plain": [
       "(Index(['State',\n",
       "        'Percentage of Homeless Patients age >= 15 who completed treatment within 12 months',\n",
       "        'Percentage of all patients who completed treatment within 12 months',\n",
       "        'No. of Cases'],\n",
       "       dtype='object'), Index(['Region', 'Division', 'State'], dtype='object'))"
      ]
     },
     "execution_count": 52,
     "metadata": {},
     "output_type": "execute_result"
    }
   ],
   "source": [
    "pd1.columns, pd2.columns"
   ]
  },
  {
   "cell_type": "code",
   "execution_count": 55,
   "metadata": {},
   "outputs": [],
   "source": [
    "done = pd1.merge(pd2, on='State')"
   ]
  },
  {
   "cell_type": "code",
   "execution_count": 57,
   "metadata": {
    "scrolled": true
   },
   "outputs": [
    {
     "data": {
      "text/plain": [
       "Index(['State',\n",
       "       'Percentage of Homeless Patients age >= 15 who completed treatment within 12 months',\n",
       "       'Percentage of all patients who completed treatment within 12 months',\n",
       "       'No. of Cases', 'Region', 'Division'],\n",
       "      dtype='object')"
      ]
     },
     "execution_count": 57,
     "metadata": {},
     "output_type": "execute_result"
    }
   ],
   "source": [
    "done.columns"
   ]
  },
  {
   "cell_type": "code",
   "execution_count": 60,
   "metadata": {},
   "outputs": [],
   "source": [
    "done[['State', 'Region', 'Division', 'No. of Cases']].to_csv('tb-data-cluster.csv')"
   ]
  },
  {
   "cell_type": "code",
   "execution_count": 61,
   "metadata": {},
   "outputs": [],
   "source": [
    "here = done[['State', 'Region', 'Division', 'No. of Cases']]"
   ]
  },
  {
   "cell_type": "code",
   "execution_count": 65,
   "metadata": {},
   "outputs": [
    {
     "data": {
      "text/plain": [
       "{'Midwest', 'Northeast', 'South', 'West'}"
      ]
     },
     "execution_count": 65,
     "metadata": {},
     "output_type": "execute_result"
    }
   ],
   "source": [
    "set(here['Region'])"
   ]
  },
  {
   "cell_type": "code",
   "execution_count": null,
   "metadata": {},
   "outputs": [],
   "source": []
  },
  {
   "cell_type": "code",
   "execution_count": 69,
   "metadata": {},
   "outputs": [],
   "source": [
    "midwest = {}\n",
    "northeast = {}\n",
    "south = {}\n",
    "west = {}"
   ]
  },
  {
   "cell_type": "code",
   "execution_count": 75,
   "metadata": {},
   "outputs": [],
   "source": [
    "for i in range(len(here)):\n",
    "    if here.iloc[i]['Region'] == 'West':\n",
    "        if here.iloc[i]['Division'] in west.keys():\n",
    "            west[here.iloc[i]['Division']].append({'name': here.iloc[i]['State'], 'value': here.iloc[i]['No. of Cases']})\n",
    "        else:\n",
    "            west[here.iloc[i]['Division']] = [{'name': here.iloc[i]['State'], 'value': here.iloc[i]['No. of Cases']}]\n",
    "    elif here.iloc[i]['Region'] == 'Northeast':\n",
    "        if here.iloc[i]['Division'] in northeast.keys():\n",
    "            northeast[here.iloc[i]['Division']].append({'name': here.iloc[i]['State'], 'value': here.iloc[i]['No. of Cases']})\n",
    "        else:\n",
    "            northeast[here.iloc[i]['Division']] = [{'name': here.iloc[i]['State'], 'value': here.iloc[i]['No. of Cases']}]\n",
    "    elif here.iloc[i]['Region'] == 'South':\n",
    "        if here.iloc[i]['Division'] in south.keys():\n",
    "            south[here.iloc[i]['Division']].append({'name': here.iloc[i]['State'], 'value': here.iloc[i]['No. of Cases']})\n",
    "        else:\n",
    "            south[here.iloc[i]['Division']] = [{'name': here.iloc[i]['State'], 'value': here.iloc[i]['No. of Cases']}]\n",
    "    else:\n",
    "        if here.iloc[i]['Division'] in midwest.keys():\n",
    "            midwest[here.iloc[i]['Division']].append({'name': here.iloc[i]['State'], 'value': here.iloc[i]['No. of Cases']})\n",
    "        else:\n",
    "            midwest[here.iloc[i]['Division']] = [{'name': here.iloc[i]['State'], 'value': here.iloc[i]['No. of Cases']}]"
   ]
  },
  {
   "cell_type": "code",
   "execution_count": 80,
   "metadata": {},
   "outputs": [],
   "source": [
    "x = {\"name\": \"tbtypes\", \n",
    "\"children\": [\n",
    "    {\"name\": \"Midwest\",\n",
    "    \"children\": [\n",
    "        {\"name\": \"East North Central\",\n",
    "        \"children\": [{'name': 'Wisconsin', 'value': '1 to 59'},\n",
    "                  {'name': 'Indiana', 'value': '60 to 147'},\n",
    "                  {'name': 'Ohio', 'value': '148 or more'},\n",
    "                  {'name': 'Illinois', 'value': '148 or more'}]},\n",
    "        {\"name\": \"West North Central\", \n",
    "        \"children\": [{'name': 'Kansas', 'value': '1 to 59'},\n",
    "                  {'name': 'Nebraska', 'value': '1 to 59'},\n",
    "                  {'name': 'Missouri', 'value': '60 to 147'}]}\n",
    "    ]},\n",
    "    {\n",
    "        \"name\": \"Northeast\",\n",
    "        \"children\": [\n",
    "            {\n",
    "                \"name\": \"Middle Atlantic\",\n",
    "                \"children\": [{'name': 'District of Columbia', 'value': '1 to 59'},\n",
    "              {'name': 'New Jersey', 'value': '148 or more'}],\n",
    "            },\n",
    "            {\n",
    "                \"name\": \"New England\",\n",
    "                \"children\": [{'name': 'Maine', 'value': '1 to 59'},\n",
    "              {'name': 'Massachusetts', 'value': '148 or more'}]\n",
    "            }\n",
    "        ]\n",
    "    },\n",
    "    {\n",
    "        \"name\": \"South\",\n",
    "        \"children\": [\n",
    "            {\n",
    "                \"name\": \"West South Central\",\n",
    "                \"children\": [{'name': 'Oklahoma', 'value': '1 to 59'},\n",
    "                  {'name': 'Arkansas', 'value': '60 to 147'},\n",
    "                  {'name': 'Louisiana', 'value': '60 to 147'},\n",
    "                  {'name': 'Texas', 'value': '148 or more'}]\n",
    "            },\n",
    "            {\n",
    "                \"name\": \"South Atlantic\",\n",
    "                \"children\": [{'name': 'Delaware', 'value': '1 to 59'},\n",
    "                  {'name': 'South Carolina', 'value': '60 to 147'},\n",
    "                  {'name': 'North Carolina', 'value': '148 or more'},\n",
    "                  {'name': 'Virginia', 'value': '148 or more'},\n",
    "                  {'name': 'Maryland', 'value': '148 or more'},\n",
    "                  {'name': 'Florida', 'value': '148 or more'},\n",
    "                  {'name': 'Georgia', 'value': '148 or more'}]\n",
    "            },\n",
    "            {\n",
    "                \"name\": \"East South Central\", \n",
    "                \"children\": [{'name': 'Kentucky', 'value': '60 to 147'},\n",
    "                  {'name': 'Alabama', 'value': '60 to 147'},\n",
    "                  {'name': 'Mississippi', 'value': '60 to 147'},\n",
    "                  {'name': 'Tennessee', 'value': '148 or more'}]\n",
    "            }\n",
    "        ]\n",
    "    },\n",
    "    {\n",
    "        \"name\": \"West\",\n",
    "        \"children\": [\n",
    "            {\n",
    "                \"name\": \"Mountain\",\n",
    "                \"children\":[{'name': 'Utah', 'value': '1 to 59'},\n",
    "                  {'name': 'Colorado', 'value': '60 to 147'},\n",
    "                  {'name': 'Arizona', 'value': '148 or more'},\n",
    "                  {'name': 'Utah', 'value': '1 to 59'},\n",
    "                  {'name': 'Colorado', 'value': '60 to 147'},\n",
    "                  {'name': 'Arizona', 'value': '148 or more'}]\n",
    "            }, \n",
    "            {\n",
    "                \"name\": \"West South Central\",\n",
    "                \"children\": [{'name': 'Texas', 'value': '148 or more'}]\n",
    "            },\n",
    "            {\n",
    "                \"name\": \"Middle Atlantic\",\n",
    "                \"children\": [{'name': 'New Jersey', 'value': '148 or more'}]\n",
    "            },\n",
    "            {\n",
    "                \"name\": \"New England\",\n",
    "                \"children\": [{'name': 'Massachusetts', 'value': '148 or more'}]\n",
    "            },\n",
    "            {\n",
    "                \"name\": \"East North Central\",\n",
    "                \"children\":[{'name': 'Illinois', 'value': '148 or more'}]\n",
    "            }, \n",
    "            {\n",
    "                \"name\": \"West North Central\",\n",
    "                \"children\":[{'name': 'Missouri', 'value': '60 to 147'}]\n",
    "            },\n",
    "            {\n",
    "                \"name\": \"South Atlantic\",\n",
    "                \"children\": [{'name': 'Georgia', 'value': '148 or more'}]\n",
    "            }, \n",
    "            {\n",
    "                \"name\": \"Pacific\",\n",
    "                \"children\":[{'name': 'Hawaii', 'value': '60 to 147'},\n",
    "                  {'name': 'Oregon', 'value': '60 to 147'},\n",
    "                  {'name': 'Alaska', 'value': '60 to 147'},\n",
    "                  {'name': 'California', 'value': '148 or more'},\n",
    "                  {'name': 'Washington', 'value': '148 or more'},\n",
    "                  {'name': 'Hawaii', 'value': '60 to 147'},\n",
    "                  {'name': 'Oregon', 'value': '60 to 147'},\n",
    "                  {'name': 'Alaska', 'value': '60 to 147'},\n",
    "                  {'name': 'California', 'value': '148 or more'},\n",
    "                  {'name': 'Washington', 'value': '148 or more'}]\n",
    "            }, \n",
    "            {\n",
    "                \"name\": \"East South Central\",\n",
    "                \"children\": [{'name': 'Tennessee', 'value': '148 or more'}]\n",
    "            }\n",
    "        ]\n",
    "    }\n",
    "]}"
   ]
  },
  {
   "cell_type": "code",
   "execution_count": 97,
   "metadata": {},
   "outputs": [
    {
     "name": "stdout",
     "output_type": "stream",
     "text": [
      "LineChart.csv                p4-d2.csv\r\n",
      "\u001b[34marea\u001b[m\u001b[m                         p4-final.csv\r\n",
      "area.csv                     p4-script.py\r\n",
      "bubblechart.json             preprocessing_notebook.ipynb\r\n",
      "\u001b[34mbubblejson\u001b[m\u001b[m                   sankey-data.json\r\n",
      "choropleth_data.csv          stacked-bar-chart.csv\r\n",
      "cities.csv                   stacked-bar-chart.json\r\n",
      "demo.csv                     stacked-bar-chart3.csv\r\n",
      "diabetes.csv                 stacked.json\r\n",
      "heart-disease.csv            states.csv\r\n",
      "heatmap.json                 tabledata.json\r\n",
      "p1-d1.csv                    tb-data-cluster.csv\r\n",
      "p2-d1.csv                    tb-data.csv\r\n",
      "p2-d2.csv                    us.json\r\n",
      "p4-d1.csv                    usmap.json\r\n"
     ]
    }
   ],
   "source": [
    "!ls"
   ]
  },
  {
   "cell_type": "code",
   "execution_count": 99,
   "metadata": {},
   "outputs": [],
   "source": [
    "pd3 = pd.read_csv('diabetes.csv')"
   ]
  },
  {
   "cell_type": "code",
   "execution_count": 102,
   "metadata": {},
   "outputs": [],
   "source": [
    "done2 = pd2.merge(pd3, on='State')"
   ]
  },
  {
   "cell_type": "code",
   "execution_count": 104,
   "metadata": {},
   "outputs": [
    {
     "data": {
      "text/plain": [
       "Region                    Midwest\n",
       "Division       East North Central\n",
       "State                    Illinois\n",
       "Percentage                    9.5\n",
       "Lower Limit                   8.7\n",
       "Upper Limit                  10.5\n",
       "Name: 0, dtype: object"
      ]
     },
     "execution_count": 104,
     "metadata": {},
     "output_type": "execute_result"
    }
   ],
   "source": [
    "done2.iloc[0]"
   ]
  },
  {
   "cell_type": "code",
   "execution_count": 105,
   "metadata": {},
   "outputs": [],
   "source": [
    "finaldict = {}"
   ]
  },
  {
   "cell_type": "code",
   "execution_count": null,
   "metadata": {},
   "outputs": [],
   "source": [
    "{\n",
    "    \"region\": {\n",
    "        \"division\": \n",
    "        {\"state\": []},\n",
    "        {\"state\": []}\n",
    "    }\n",
    "}"
   ]
  },
  {
   "cell_type": "code",
   "execution_count": 129,
   "metadata": {},
   "outputs": [],
   "source": [
    "finaldict = {}\n",
    "for i in range(len(done2)):\n",
    "    r = done2.iloc[i]['Region']\n",
    "    if r in finaldict.keys():\n",
    "        d = done2.iloc[i]['Division']\n",
    "        if d in finaldict[r].keys():\n",
    "            s = done2.iloc[i]['State']\n",
    "            app = [{\"name\": \"Percentage\", \"value\": done2.iloc[i]['Percentage']},\n",
    "                  {\"name\": \"Lower Limit\", \"value\": done2.iloc[i]['Lower Limit']},\n",
    "                  {\"name\": \"Upper Limit\", \"value\": done2.iloc[i]['Upper Limit']}]\n",
    "            if s in finaldict[r][d].keys():\n",
    "                finaldict[r][d][s].append(app)\n",
    "            else:\n",
    "                finaldict[r][d][s] = [app]\n",
    "        else:\n",
    "            finaldict[r][d] = {}\n",
    "    else:\n",
    "        finaldict[r] = {}"
   ]
  },
  {
   "cell_type": "code",
   "execution_count": 139,
   "metadata": {},
   "outputs": [
    {
     "data": {
      "text/plain": [
       "dict_keys(['Midwest', 'Northeast', 'South', 'West'])"
      ]
     },
     "execution_count": 139,
     "metadata": {},
     "output_type": "execute_result"
    }
   ],
   "source": [
    "finaldict.keys()"
   ]
  },
  {
   "cell_type": "code",
   "execution_count": 165,
   "metadata": {},
   "outputs": [
    {
     "data": {
      "text/plain": [
       "{'California': [[{'name': 'Percentage', 'value': 9.7},\n",
       "   {'name': 'Lower Limit', 'value': 9.0},\n",
       "   {'name': 'Upper Limit', 'value': 10.4}]],\n",
       " 'Hawaii': [[{'name': 'Percentage', 'value': 9.5},\n",
       "   {'name': 'Lower Limit', 'value': 8.7},\n",
       "   {'name': 'Upper Limit', 'value': 10.4}]],\n",
       " 'Oregon': [[{'name': 'Percentage', 'value': 8.4},\n",
       "   {'name': 'Lower Limit', 'value': 7.6},\n",
       "   {'name': 'Upper Limit', 'value': 9.2}]],\n",
       " 'Washington': [[{'name': 'Percentage', 'value': 8.6},\n",
       "   {'name': 'Lower Limit', 'value': 8.1},\n",
       "   {'name': 'Upper Limit', 'value': 9.1}]]}"
      ]
     },
     "execution_count": 165,
     "metadata": {},
     "output_type": "execute_result"
    }
   ],
   "source": [
    "finaldict['West']['Pacific']"
   ]
  },
  {
   "cell_type": "code",
   "execution_count": null,
   "metadata": {},
   "outputs": [],
   "source": []
  },
  {
   "cell_type": "code",
   "execution_count": 141,
   "metadata": {},
   "outputs": [
    {
     "data": {
      "text/plain": [
       "{}"
      ]
     },
     "execution_count": 141,
     "metadata": {},
     "output_type": "execute_result"
    }
   ],
   "source": [
    "{\n",
    "    \"name\": \"Diabetes\",\n",
    "    \"children\": [\n",
    "        {\n",
    "            \"name\": \"Midwest\",\n",
    "            \"children\": [\n",
    "                {\n",
    "                    \"name\": \"East North Central\",\n",
    "                    \"children\": [\n",
    "                        {\n",
    "                            \"name\": \"Michigan\",\n",
    "                            \"children\": [{'name': 'Percentage', 'value': 9.8},\n",
    "                                        {'name': 'Lower Limit', 'value': 9.2},\n",
    "                                        {'name': 'Upper Limit', 'value': 10.4}]\n",
    "                        },\n",
    "                        {\n",
    "                            \"name\": \"Ohio\",\n",
    "                            \"children\": [{'name': 'Percentage', 'value': 9.7},\n",
    "                                        {'name': 'Lower Limit', 'value': 9.0},\n",
    "                                        {'name': 'Upper Limit', 'value': 10.3}]\n",
    "                        },\n",
    "                        {\n",
    "                            \"name\": \"Wisconsin\",\n",
    "                            \"children\": [{'name': 'Percentage', 'value': 8.6},\n",
    "                                    {'name': 'Lower Limit', 'value': 7.7},\n",
    "                                    {'name': 'Upper Limit', 'value': 9.5}]\n",
    "                        }\n",
    "                    ]\n",
    "                },\n",
    "                {\n",
    "                    \"name\": \"West North Central\",\n",
    "                    \"children\": [\n",
    "                        {\n",
    "                            \"name\": \"Kansas\",\n",
    "                            \"children\": [{'name': 'Percentage', 'value': 8.5},\n",
    "                                    {'name': 'Lower Limit', 'value': 8.0},\n",
    "                                    {'name': 'Upper Limit', 'value': 9.0}]\n",
    "                        },\n",
    "                        {\n",
    "                            \"name\": \"Minnesota\",\n",
    "                            \"children\": [{'name': 'Percentage', 'value': 7.6},\n",
    "                                    {'name': 'Lower Limit', 'value': 7.1},\n",
    "                                    {'name': 'Upper Limit', 'value': 8.0}]\n",
    "                        },\n",
    "                        {\n",
    "                            \"name\": \"Missouri\",\n",
    "                            \"children\": [{'name': 'Percentage', 'value': 10.2},\n",
    "                                    {'name': 'Lower Limit', 'value': 9.4},\n",
    "                                    {'name': 'Upper Limit', 'value': 11.2}]\n",
    "                        },\n",
    "                        {\n",
    "                            \"name\": \"Nebraska\",\n",
    "                            \"children\": [{'name': 'Percentage', 'value': 8.0},\n",
    "                                    {'name': 'Lower Limit', 'value': 7.5},\n",
    "                                    {'name': 'Upper Limit', 'value': 8.6}]\n",
    "                        },\n",
    "                        {\n",
    "                            \"name\": \"North Dakota\",\n",
    "                            \"children\": [{'name': 'Percentage', 'value': 8.2},\n",
    "                                    {'name': 'Lower Limit', 'value': 7.4},\n",
    "                                    {'name': 'Upper Limit', 'value': 9.0}]\n",
    "                        },\n",
    "                        {\n",
    "                            \"name\": \"South Dakota\",\n",
    "                            \"children\": [{'name': 'Percentage', 'value': 6.9},\n",
    "                                    {'name': 'Lower Limit', 'value': 6.1},\n",
    "                                    {'name': 'Upper Limit', 'value': 7.8}]\n",
    "                        }\n",
    "                    ]\n",
    "                }\n",
    "            ]\n",
    "        },\n",
    "        \n",
    "       {\n",
    "            \"name\": \"Northeast\",\n",
    "            \"children\": [\n",
    "                {\n",
    "                    \"name\": \"Middle Atlantic\",\n",
    "                    \"children\": [\n",
    "                        {\n",
    "                            \"name\": \"New York\",\n",
    "                            \"children\": [{'name': 'Percentage', 'value': 9.4},\n",
    "                                   {'name': 'Lower Limit', 'value': 8.9},\n",
    "                                   {'name': 'Upper Limit', 'value': 10.0}]\n",
    "                        },\n",
    "                        {\n",
    "                            \"name\": \"Pennsylvania\",\n",
    "                            \"children\": [{'name': 'Percentage', 'value': 9.6},\n",
    "                                   {'name': 'Lower Limit', 'value': 8.8},\n",
    "                                   {'name': 'Upper Limit', 'value': 10.4}]\n",
    "                        }\n",
    "                    ]\n",
    "                },\n",
    "                {\n",
    "                    \"name\": \"New England\",\n",
    "                    \"children\": [\n",
    "                        {\n",
    "                            \"name\": \"Maine\",\n",
    "                            \"children\":[{'name': 'Percentage', 'value': 8.5},\n",
    "                                   {'name': 'Lower Limit', 'value': 7.8},\n",
    "                                   {'name': 'Upper Limit', 'value': 9.2}]\n",
    "                        },\n",
    "                        {\n",
    "                            \"name\": \"Massachusetts\",\n",
    "                            \"children\":[{'name': 'Percentage', 'value': 8.3},\n",
    "                                   {'name': 'Lower Limit', 'value': 7.6},\n",
    "                                   {'name': 'Upper Limit', 'value': 9.0}]\n",
    "                        },\n",
    "                        {\n",
    "                            \"name\": \"New Hampshire\",\n",
    "                            \"children\":[{'name': 'Percentage', 'value': 7.7},\n",
    "                                   {'name': 'Lower Limit', 'value': 7.0},\n",
    "                                   {'name': 'Upper Limit', 'value': 8.5}]\n",
    "                        },\n",
    "                        {\n",
    "                            \"name\": \"Rhode Island\",\n",
    "                            \"children\": [{'name': 'Percentage', 'value': 8.6},\n",
    "                                   {'name': 'Lower Limit', 'value': 7.8},\n",
    "                                   {'name': 'Upper Limit', 'value': 9.5}]\n",
    "                        },\n",
    "                        {\n",
    "                            \"name\": \"Vermont\",\n",
    "                            \"children\": [{'name': 'Percentage', 'value': 7.3},\n",
    "                                   {'name': 'Lower Limit', 'value': 6.5},\n",
    "                                   {'name': 'Upper Limit', 'value': 8.1}]\n",
    "                        }\n",
    "                    ]\n",
    "                }\n",
    "            ]\n",
    "        }, \n",
    "        \n",
    "        \n",
    "       {\n",
    "            \"name\": \"South\",\n",
    "            \"children\": [\n",
    "                {\n",
    "                    \"name\": \"East South Central\",\n",
    "                    \"children\": [\n",
    "                        {\n",
    "                            \"name\": \"Mississippi\",\n",
    "                            \"children\":[{'name': 'Percentage', 'value': 12.4},\n",
    "                                   {'name': 'Lower Limit', 'value': 11.4},\n",
    "                                   {'name': 'Upper Limit', 'value': 13.5}]\n",
    "                        },\n",
    "                        {\n",
    "                            \"name\": \"Tennessee\",\n",
    "                            \"children\":[{'name': 'Percentage', 'value': 11.2},\n",
    "                                   {'name': 'Lower Limit', 'value': 10.3},\n",
    "                                   {'name': 'Upper Limit', 'value': 12.1}]\n",
    "                        }\n",
    "                    ]\n",
    "                },\n",
    "                {\n",
    "                    \"name\": \"South Atlantic\",\n",
    "                    \"children\": [\n",
    "                        {\n",
    "                            \"name\": \"Florida\",\n",
    "                            \"children\":[{'name': 'Percentage', 'value': 9.8},\n",
    "                               {'name': 'Lower Limit', 'value': 9.2},\n",
    "                               {'name': 'Upper Limit', 'value': 10.4}]\n",
    "                        },\n",
    "                        {\n",
    "                            \"name\": \"Georgia\",\n",
    "                            \"children\":[{'name': 'Percentage', 'value': 11.4},\n",
    "                               {'name': 'Lower Limit', 'value': 10.5},\n",
    "                               {'name': 'Upper Limit', 'value': 12.4}]\n",
    "                        },\n",
    "                        {\n",
    "                            \"name\": \"Maryland\",\n",
    "                            \"children\": [{'name': 'Percentage', 'value': 9.8},\n",
    "                               {'name': 'Lower Limit', 'value': 9.2},\n",
    "                               {'name': 'Upper Limit', 'value': 10.4}]\n",
    "                        },\n",
    "                        {\n",
    "                            \"name\": \"North Carolina\",\n",
    "                            \"children\":[{'name': 'Percentage', 'value': 10.1},\n",
    "                               {'name': 'Lower Limit', 'value': 9.3},\n",
    "                               {'name': 'Upper Limit', 'value': 10.9}]\n",
    "                        },\n",
    "                        {\n",
    "                            \"name\": \"South Carolina\",\n",
    "                            \"children\":[{'name': 'Percentage', 'value': 11.5},\n",
    "                               {'name': 'Lower Limit', 'value': 10.8},\n",
    "                               {'name': 'Upper Limit', 'value': 12.2}]\n",
    "                        },\n",
    "                        {\n",
    "                            \"name\": \"Virginia\",\n",
    "                            \"children\": [{'name': 'Percentage', 'value': 9.6},\n",
    "                               {'name': 'Lower Limit', 'value': 8.9},\n",
    "                               {'name': 'Upper Limit', 'value': 10.2}]\n",
    "                        },\n",
    "                        {\n",
    "                            \"name\": \"West Virginia\",\n",
    "                            \"children\":[{'name': 'Percentage', 'value': 12.7},\n",
    "                               {'name': 'Lower Limit', 'value': 11.9},\n",
    "                               {'name': 'Upper Limit', 'value': 13.5}]\n",
    "                        }\n",
    "                    ]\n",
    "                },\n",
    "                {\n",
    "                    \"name\": \"West South Central\",\n",
    "                    \"children\": [\n",
    "                        {\n",
    "                           \"name\": \"Louisiana\",\n",
    "                            \"children\":[{'name': 'Percentage', 'value': 11.1},\n",
    "                               {'name': 'Lower Limit', 'value': 10.1},\n",
    "                               {'name': 'Upper Limit', 'value': 12.2}]\n",
    "                        },\n",
    "                        {\n",
    "                            \"name\": \"Oklahoma\",\n",
    "                            \"children\":[{'name': 'Percentage', 'value': 10.9},\n",
    "                               {'name': 'Lower Limit', 'value': 10.1},\n",
    "                               {'name': 'Upper Limit', 'value': 11.8}]\n",
    "                        },\n",
    "                        {\n",
    "                            \"name\": \"Texas\",\n",
    "                            \"children\":[{'name': 'Percentage', 'value': 10.9},\n",
    "                               {'name': 'Lower Limit', 'value': 9.9},\n",
    "                               {'name': 'Upper Limit', 'value': 11.9}]\n",
    "                        }\n",
    "                    ]\n",
    "                }\n",
    "            ]\n",
    "        }, \n",
    "        \n",
    "        {\n",
    "            \"name\": \"West\",\n",
    "            \"children\": [\n",
    "                {\n",
    "                    \"name\": \"Mountain\",\n",
    "                    \"children\": [\n",
    "                        {\n",
    "                            \"name\": \"Idaho\",\n",
    "                            \"children\":[{'name': 'Percentage', 'value': 8.1},\n",
    "                                   {'name': 'Lower Limit', 'value': 7.3},\n",
    "                                   {'name': 'Upper Limit', 'value': 9.0}]\n",
    "                        },\n",
    "                        {\n",
    "                            \"name\": \"Montana\",\n",
    "                            \"children\":[{'name': 'Percentage', 'value': 6.9},\n",
    "                                   {'name': 'Lower Limit', 'value': 6.2},\n",
    "                                   {'name': 'Upper Limit', 'value': 7.7}]\n",
    "                        },\n",
    "                        {\n",
    "                            \"name\": \"Nevada\",\n",
    "                            \"children\":[{'name': 'Percentage', 'value': 10.1},\n",
    "                                   {'name': 'Lower Limit', 'value': 9.1},\n",
    "                                   {'name': 'Upper Limit', 'value': 11.3}]\n",
    "                        },\n",
    "                        {\n",
    "                            \"name\": \"New Mexico\",\n",
    "                            \"children\":[{'name': 'Percentage', 'value': 10.4},\n",
    "                                   {'name': 'Lower Limit', 'value': 9.4},\n",
    "                                   {'name': 'Upper Limit', 'value': 11.4}]\n",
    "                        },\n",
    "                        {\n",
    "                            \"name\": \"Utah\",\n",
    "                            \"children\":[{'name': 'Percentage', 'value': 7.7},\n",
    "                                   {'name': 'Lower Limit', 'value': 7.1},\n",
    "                                   {'name': 'Upper Limit', 'value': 8.3}]\n",
    "                        },\n",
    "                        {\n",
    "                            \"name\": \"Wyoming\",\n",
    "                            \"children\":[{'name': 'Percentage', 'value': 7.6},\n",
    "                                   {'name': 'Lower Limit', 'value': 6.7},\n",
    "                                   {'name': 'Upper Limit', 'value': 8.6}]\n",
    "                        }\n",
    "                    ]\n",
    "                },\n",
    "                {\n",
    "                   \"name\": \"Pacific\",\n",
    "                    \"children\": [\n",
    "                        {\n",
    "                            \"name\": \"California\",\n",
    "                            \"children\":[{'name': 'Percentage', 'value': 9.7},\n",
    "                                   {'name': 'Lower Limit', 'value': 9.0},\n",
    "                                   {'name': 'Upper Limit', 'value': 10.4}]\n",
    "                        },\n",
    "                        {\n",
    "                            \"name\": \"Hawaii\",\n",
    "                            \"children\":[{'name': 'Percentage', 'value': 9.5},\n",
    "                                   {'name': 'Lower Limit', 'value': 8.7},\n",
    "                                   {'name': 'Upper Limit', 'value': 10.4}]\n",
    "                        },\n",
    "                        {\n",
    "                            \"name\": \"Oregon\",\n",
    "                            \"children\":[{'name': 'Percentage', 'value': 8.4},\n",
    "                                   {'name': 'Lower Limit', 'value': 7.6},\n",
    "                                   {'name': 'Upper Limit', 'value': 9.2}]\n",
    "                        },\n",
    "                        {\n",
    "                            \"name\": \"Washington\",\n",
    "                            \"children\":[{'name': 'Percentage', 'value': 8.6},\n",
    "                                   {'name': 'Lower Limit', 'value': 8.1},\n",
    "                                   {'name': 'Upper Limit', 'value': 9.1}]\n",
    "                        }\n",
    "                    ]\n",
    "                }\n",
    "            ]\n",
    "        }\n",
    "        \n",
    "    ]\n",
    "}"
   ]
  },
  {
   "cell_type": "code",
   "execution_count": null,
   "metadata": {},
   "outputs": [],
   "source": []
  }
 ],
 "metadata": {
  "kernelspec": {
   "display_name": "Python 3",
   "language": "python",
   "name": "python3"
  },
  "language_info": {
   "codemirror_mode": {
    "name": "ipython",
    "version": 3
   },
   "file_extension": ".py",
   "mimetype": "text/x-python",
   "name": "python",
   "nbconvert_exporter": "python",
   "pygments_lexer": "ipython3",
   "version": "3.7.2"
  }
 },
 "nbformat": 4,
 "nbformat_minor": 2
}
