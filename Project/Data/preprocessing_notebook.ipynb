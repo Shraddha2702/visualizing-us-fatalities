{
 "cells": [
  {
   "cell_type": "code",
   "execution_count": 1,
   "metadata": {},
   "outputs": [],
   "source": [
    "import pandas as pd\n",
    "import numpy as np\n",
    "import warnings\n",
    "warnings.filterwarnings('ignore')"
   ]
  },
  {
   "cell_type": "code",
   "execution_count": 2,
   "metadata": {},
   "outputs": [
    {
     "name": "stdout",
     "output_type": "stream",
     "text": [
      "LineChart.csv                p4-d1.csv\r\n",
      "choropleth_data.csv          p4-d2.csv\r\n",
      "cities.csv                   p4-final.csv\r\n",
      "demo.csv                     p4-script.py\r\n",
      "p1-d1.csv                    preprocessing_notebook.ipynb\r\n",
      "p2-d1.csv                    tabledata.json\r\n",
      "p2-d2.csv                    us.json\r\n"
     ]
    }
   ],
   "source": [
    "!ls"
   ]
  },
  {
   "cell_type": "code",
   "execution_count": 3,
   "metadata": {},
   "outputs": [],
   "source": [
    "file = pd.read_csv('choropleth_data.csv')"
   ]
  },
  {
   "cell_type": "code",
   "execution_count": 4,
   "metadata": {},
   "outputs": [
    {
     "data": {
      "text/plain": [
       "Index(['id', 'State', 'AP_1979–1981', 'AP_1989–1991', 'AP_2009–2011',\n",
       "       'AP_2010–2012', 'AP_2011–2013', 'AP_2012–2014', 'AP_2013–2015',\n",
       "       'AP_2014–2016', 'W_2009–2011', 'W_2010–2012', 'W_2011–2013',\n",
       "       'W_2012–2014', 'W_2013–2015', 'W_2014–2016', 'BAA_2009–2011',\n",
       "       'BAA_2010–2012', 'BAA_2011–2013', 'BAA_2012–2014', 'BAA_2013–2015',\n",
       "       'BAA_2014–2016', 'AIA_2009–2011', 'AIA_2010–2012', 'AIA_2011–2013',\n",
       "       'AIA_2012–2014', 'AIA_2013–2015', 'AIA_2014–2016', 'API_2009–2011',\n",
       "       'API_2010–2012', 'API_2011–2013', 'API_2012–2014', 'API_2013–2015',\n",
       "       'API_2014–2016', 'HL_2009–2011', 'HL_2010–2012', 'HL_2011–2013',\n",
       "       'HL_2012–2014', 'HL_2013–2015', 'HL_2014–2016', 'WHL_2009–2011',\n",
       "       'WHL_2010–2012', 'WHL_2011–2013', 'WHL_2012–2014', 'WHL_2013–2015',\n",
       "       'WHL_2014–2016', 'BHL_2009–2011', 'BHL_2010–2012', 'BHL_2011–2013',\n",
       "       'BHL_2012–2014', 'BHL_2013–2015', 'BHL_2014–2016'],\n",
       "      dtype='object')"
      ]
     },
     "execution_count": 4,
     "metadata": {},
     "output_type": "execute_result"
    }
   ],
   "source": [
    "file.columns"
   ]
  },
  {
   "cell_type": "code",
   "execution_count": null,
   "metadata": {},
   "outputs": [],
   "source": []
  }
 ],
 "metadata": {
  "kernelspec": {
   "display_name": "Python 3",
   "language": "python",
   "name": "python3"
  },
  "language_info": {
   "codemirror_mode": {
    "name": "ipython",
    "version": 3
   },
   "file_extension": ".py",
   "mimetype": "text/x-python",
   "name": "python",
   "nbconvert_exporter": "python",
   "pygments_lexer": "ipython3",
   "version": "3.7.2"
  }
 },
 "nbformat": 4,
 "nbformat_minor": 2
}
