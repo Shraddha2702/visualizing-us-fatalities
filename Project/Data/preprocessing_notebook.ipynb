{
 "cells": [
  {
   "cell_type": "code",
   "execution_count": 1,
   "metadata": {},
   "outputs": [],
   "source": [
    "import pandas as pd\n",
    "import numpy as np\n",
    "import warnings\n",
    "warnings.filterwarnings('ignore')"
   ]
  },
  {
   "cell_type": "code",
   "execution_count": 2,
   "metadata": {},
   "outputs": [
    {
     "name": "stdout",
     "output_type": "stream",
     "text": [
      "LineChart.csv                p4-d2.csv\r\n",
      "\u001b[34marea\u001b[m\u001b[m                         p4-final.csv\r\n",
      "area.csv                     p4-script.py\r\n",
      "bubblechart.json             preprocessing_notebook.ipynb\r\n",
      "choropleth_data.csv          sankey-data.json\r\n",
      "cities.csv                   stacked-bar-chart.csv\r\n",
      "demo.csv                     stacked-bar-chart.json\r\n",
      "diabetes.csv                 stacked-bar-chart3.csv\r\n",
      "heart-disease.csv            stacked.json\r\n",
      "heatmap.json                 tabledata.json\r\n",
      "p1-d1.csv                    tb-data.csv\r\n",
      "p2-d1.csv                    us.json\r\n",
      "p2-d2.csv                    usmap.json\r\n",
      "p4-d1.csv\r\n"
     ]
    }
   ],
   "source": [
    "!ls"
   ]
  },
  {
   "cell_type": "code",
   "execution_count": 36,
   "metadata": {},
   "outputs": [],
   "source": [
    "file = pd.read_csv('tb-data.csv', header=None)"
   ]
  },
  {
   "cell_type": "code",
   "execution_count": 37,
   "metadata": {},
   "outputs": [
    {
     "data": {
      "text/plain": [
       "0                     Utah ' 100.0 100.0\n",
       "1                New Mexico ' 100.0 97.1\n",
       "2                 Oklahoma ' 100.0 96.2 \n",
       "3     District of Columbia ' 100.0 92.6 \n",
       "4                    Maine ' 100.0 91.7 \n",
       "5                Wisconsin ' 100.0 89.5 \n",
       "6                    Kansas ' 83.3 94.3 \n",
       "7                  Nebraska ' 0.0 100.0 \n",
       "8                   Delaware ' 0.0 89.5 \n",
       "9                  Baltimore ' 0.0 88.2 \n",
       "10               North Dakota ' 0.0 70.0\n",
       "11             Connecticut ' 100.0 98.0 \n",
       "12                  Nevada ' 100.0 96.9 \n",
       "13           South Carolina ' 100.0 96.9\n",
       "14                 Indiana ' 100.0 94.4 \n",
       "15               Minnesota ' 100.0 94.2 \n",
       "16                   Hawaii ' 90.0 99.2 \n",
       "17                   Oregon ' 87.5 96.5 \n",
       "18                   Alaska ' 85.7 94.4 \n",
       "19            San Francisco ' 83.3 85.9 \n",
       "20                 Kentucky ' 80.0 96.7 \n",
       "21                  Alabama ' 80.0 94.6 \n",
       "22              Mississippi ' 80.0 89.1 \n",
       "23                 Michigan ' 75.0 98.8 \n",
       "24                 Arkansas ' 75.0 83.6 \n",
       "25                   Chicago ' 72.7 93.1\n",
       "26              Philadelphia ' 66.7 67.8\n",
       "27                Louisiana ' 50.0 85.4 \n",
       "28                 Missouri ' 33.3 86.5 \n",
       "29                   Colorado ' 0.0 96.2\n",
       "30          North Carolina ' 100.0 97.5 \n",
       "31                Virginia ' 100.0 95.9 \n",
       "32                New York ' 100.0 95.1 \n",
       "33              New Jersey ' 100.0 95.0 \n",
       "34                    Ohio ' 100.0 94.0 \n",
       "35           Massachusetts ' 100.0 91.8 \n",
       "36                Maryland ' 100.0 91.3 \n",
       "37              Los Angeles ' 94.1 94.1 \n",
       "38            New York City ' 93.8 97.0 \n",
       "39                  Florida ' 90.5 95.7 \n",
       "40                  Georgia ' 83.7 93.0 \n",
       "41                 Illinois ' 83.3 90.7 \n",
       "42                Tennessee ' 80.0 95.3 \n",
       "43                    Texas ' 80.0 93.3 \n",
       "44               California ' 78.6 91.4 \n",
       "45                San Diego ' 75.0 87.7 \n",
       "46                  Houston ' 75.0 85.6 \n",
       "47                  Arizona ' 66.7 90.4 \n",
       "48                Washington ' 63.6 95.1\n",
       "Name: 0, dtype: object"
      ]
     },
     "execution_count": 37,
     "metadata": {},
     "output_type": "execute_result"
    }
   ],
   "source": [
    "file[0]"
   ]
  },
  {
   "cell_type": "code",
   "execution_count": 43,
   "metadata": {},
   "outputs": [
    {
     "data": {
      "text/plain": [
       "['Utah ', ' 100.0 100.0']"
      ]
     },
     "execution_count": 43,
     "metadata": {},
     "output_type": "execute_result"
    }
   ],
   "source": [
    "file[0][0].split(\"'\")"
   ]
  },
  {
   "cell_type": "code",
   "execution_count": 48,
   "metadata": {},
   "outputs": [
    {
     "name": "stdout",
     "output_type": "stream",
     "text": [
      "['', '100.0', '100.0']\n",
      "['', '100.0', '97.1']\n",
      "['', '100.0', '96.2', '']\n",
      "['', '100.0', '92.6', '']\n",
      "['', '100.0', '91.7', '']\n",
      "['', '100.0', '89.5', '']\n",
      "['', '83.3', '94.3', '']\n",
      "['', '0.0', '100.0', '']\n",
      "['', '0.0', '89.5', '']\n",
      "['', '0.0', '88.2', '']\n",
      "['', '0.0', '70.0']\n",
      "['', '100.0', '98.0', '']\n",
      "['', '100.0', '96.9', '']\n",
      "['', '100.0', '96.9']\n",
      "['', '100.0', '94.4', '']\n",
      "['', '100.0', '94.2', '']\n",
      "['', '90.0', '99.2', '']\n",
      "['', '87.5', '96.5', '']\n",
      "['', '85.7', '94.4', '']\n",
      "['', '83.3', '85.9', '']\n",
      "['', '80.0', '96.7', '']\n",
      "['', '80.0', '94.6', '']\n",
      "['', '80.0', '89.1', '']\n",
      "['', '75.0', '98.8', '']\n",
      "['', '75.0', '83.6', '']\n",
      "['', '72.7', '93.1']\n",
      "['', '66.7', '67.8']\n",
      "['', '50.0', '85.4', '']\n",
      "['', '33.3', '86.5', '']\n",
      "['', '0.0', '96.2']\n",
      "['', '100.0', '97.5', '']\n",
      "['', '100.0', '95.9', '']\n",
      "['', '100.0', '95.1', '']\n",
      "['', '100.0', '95.0', '']\n",
      "['', '100.0', '94.0', '']\n",
      "['', '100.0', '91.8', '']\n",
      "['', '100.0', '91.3', '']\n",
      "['', '94.1', '94.1', '']\n",
      "['', '93.8', '97.0', '']\n",
      "['', '90.5', '95.7', '']\n",
      "['', '83.7', '93.0', '']\n",
      "['', '83.3', '90.7', '']\n",
      "['', '80.0', '95.3', '']\n",
      "['', '80.0', '93.3', '']\n",
      "['', '78.6', '91.4', '']\n",
      "['', '75.0', '87.7', '']\n",
      "['', '75.0', '85.6', '']\n",
      "['', '66.7', '90.4', '']\n",
      "['', '63.6', '95.1']\n"
     ]
    }
   ],
   "source": [
    "final = []\n",
    "for i in range(len(file)):\n",
    "    vals = file[0][i].split(\"'\")\n",
    "    temp = []\n",
    "    temp.append(vals[0])\n",
    "    tt = vals[1].split(' ')\n",
    "    print(tt)\n",
    "    temp.append(tt[1])\n",
    "    temp.append(tt[2])\n",
    "    final.append(temp)"
   ]
  },
  {
   "cell_type": "code",
   "execution_count": 49,
   "metadata": {},
   "outputs": [
    {
     "data": {
      "text/plain": [
       "[['Utah ', '100.0', '100.0'],\n",
       " ['New Mexico ', '100.0', '97.1'],\n",
       " ['Oklahoma ', '100.0', '96.2'],\n",
       " ['District of Columbia ', '100.0', '92.6'],\n",
       " ['Maine ', '100.0', '91.7'],\n",
       " ['Wisconsin ', '100.0', '89.5'],\n",
       " ['Kansas ', '83.3', '94.3'],\n",
       " ['Nebraska ', '0.0', '100.0'],\n",
       " ['Delaware ', '0.0', '89.5'],\n",
       " ['Baltimore ', '0.0', '88.2'],\n",
       " ['North Dakota ', '0.0', '70.0'],\n",
       " ['Connecticut ', '100.0', '98.0'],\n",
       " ['Nevada ', '100.0', '96.9'],\n",
       " ['South Carolina ', '100.0', '96.9'],\n",
       " ['Indiana ', '100.0', '94.4'],\n",
       " ['Minnesota ', '100.0', '94.2'],\n",
       " ['Hawaii ', '90.0', '99.2'],\n",
       " ['Oregon ', '87.5', '96.5'],\n",
       " ['Alaska ', '85.7', '94.4'],\n",
       " ['San Francisco ', '83.3', '85.9'],\n",
       " ['Kentucky ', '80.0', '96.7'],\n",
       " ['Alabama ', '80.0', '94.6'],\n",
       " ['Mississippi ', '80.0', '89.1'],\n",
       " ['Michigan ', '75.0', '98.8'],\n",
       " ['Arkansas ', '75.0', '83.6'],\n",
       " ['Chicago ', '72.7', '93.1'],\n",
       " [' Philadelphia ', '66.7', '67.8'],\n",
       " ['Louisiana ', '50.0', '85.4'],\n",
       " ['Missouri ', '33.3', '86.5'],\n",
       " ['Colorado ', '0.0', '96.2'],\n",
       " ['North Carolina ', '100.0', '97.5'],\n",
       " ['Virginia ', '100.0', '95.9'],\n",
       " ['New York ', '100.0', '95.1'],\n",
       " ['New Jersey ', '100.0', '95.0'],\n",
       " ['Ohio ', '100.0', '94.0'],\n",
       " ['Massachusetts ', '100.0', '91.8'],\n",
       " ['Maryland ', '100.0', '91.3'],\n",
       " ['Los Angeles ', '94.1', '94.1'],\n",
       " ['New York City ', '93.8', '97.0'],\n",
       " ['Florida ', '90.5', '95.7'],\n",
       " ['Georgia ', '83.7', '93.0'],\n",
       " ['Illinois ', '83.3', '90.7'],\n",
       " ['Tennessee ', '80.0', '95.3'],\n",
       " ['Texas ', '80.0', '93.3'],\n",
       " ['California ', '78.6', '91.4'],\n",
       " ['San Diego ', '75.0', '87.7'],\n",
       " ['Houston ', '75.0', '85.6'],\n",
       " ['Arizona ', '66.7', '90.4'],\n",
       " ['Washington ', '63.6', '95.1']]"
      ]
     },
     "execution_count": 49,
     "metadata": {},
     "output_type": "execute_result"
    }
   ],
   "source": [
    "final"
   ]
  },
  {
   "cell_type": "code",
   "execution_count": 51,
   "metadata": {},
   "outputs": [],
   "source": [
    "pd.DataFrame(final).to_csv('tb-data.csv')"
   ]
  },
  {
   "cell_type": "code",
   "execution_count": 52,
   "metadata": {},
   "outputs": [
    {
     "name": "stdout",
     "output_type": "stream",
     "text": [
      "LineChart.csv                p4-d2.csv\r\n",
      "\u001b[34marea\u001b[m\u001b[m                         p4-final.csv\r\n",
      "area.csv                     p4-script.py\r\n",
      "bubblechart.json             preprocessing_notebook.ipynb\r\n",
      "choropleth_data.csv          sankey-data.json\r\n",
      "cities.csv                   stacked-bar-chart.csv\r\n",
      "demo.csv                     stacked-bar-chart.json\r\n",
      "diabetes.csv                 stacked-bar-chart3.csv\r\n",
      "heart-disease.csv            stacked.json\r\n",
      "heatmap.json                 tabledata.json\r\n",
      "p1-d1.csv                    tb-data.csv\r\n",
      "p2-d1.csv                    us.json\r\n",
      "p2-d2.csv                    usmap.json\r\n",
      "p4-d1.csv\r\n"
     ]
    }
   ],
   "source": [
    "!ls"
   ]
  },
  {
   "cell_type": "code",
   "execution_count": 4,
   "metadata": {},
   "outputs": [
    {
     "ename": "JSONDecodeError",
     "evalue": "Unexpected UTF-8 BOM (decode using utf-8-sig): line 1 column 1 (char 0)",
     "output_type": "error",
     "traceback": [
      "\u001b[0;31m---------------------------------------------------------------------------\u001b[0m",
      "\u001b[0;31mJSONDecodeError\u001b[0m                           Traceback (most recent call last)",
      "\u001b[0;32m<ipython-input-4-def346318464>\u001b[0m in \u001b[0;36m<module>\u001b[0;34m\u001b[0m\n\u001b[1;32m      2\u001b[0m \u001b[0;34m\u001b[0m\u001b[0m\n\u001b[1;32m      3\u001b[0m \u001b[0;32mwith\u001b[0m \u001b[0mopen\u001b[0m\u001b[0;34m(\u001b[0m\u001b[0;34m'bubblechart.txt'\u001b[0m\u001b[0;34m)\u001b[0m \u001b[0;32mas\u001b[0m \u001b[0mjson_file\u001b[0m\u001b[0;34m:\u001b[0m\u001b[0;34m\u001b[0m\u001b[0;34m\u001b[0m\u001b[0m\n\u001b[0;32m----> 4\u001b[0;31m     \u001b[0mdata\u001b[0m \u001b[0;34m=\u001b[0m \u001b[0mjson\u001b[0m\u001b[0;34m.\u001b[0m\u001b[0mload\u001b[0m\u001b[0;34m(\u001b[0m\u001b[0mjson_file\u001b[0m\u001b[0;34m)\u001b[0m\u001b[0;34m\u001b[0m\u001b[0;34m\u001b[0m\u001b[0m\n\u001b[0m",
      "\u001b[0;32m/Library/Frameworks/Python.framework/Versions/3.7/lib/python3.7/json/__init__.py\u001b[0m in \u001b[0;36mload\u001b[0;34m(fp, cls, object_hook, parse_float, parse_int, parse_constant, object_pairs_hook, **kw)\u001b[0m\n\u001b[1;32m    294\u001b[0m         \u001b[0mcls\u001b[0m\u001b[0;34m=\u001b[0m\u001b[0mcls\u001b[0m\u001b[0;34m,\u001b[0m \u001b[0mobject_hook\u001b[0m\u001b[0;34m=\u001b[0m\u001b[0mobject_hook\u001b[0m\u001b[0;34m,\u001b[0m\u001b[0;34m\u001b[0m\u001b[0;34m\u001b[0m\u001b[0m\n\u001b[1;32m    295\u001b[0m         \u001b[0mparse_float\u001b[0m\u001b[0;34m=\u001b[0m\u001b[0mparse_float\u001b[0m\u001b[0;34m,\u001b[0m \u001b[0mparse_int\u001b[0m\u001b[0;34m=\u001b[0m\u001b[0mparse_int\u001b[0m\u001b[0;34m,\u001b[0m\u001b[0;34m\u001b[0m\u001b[0;34m\u001b[0m\u001b[0m\n\u001b[0;32m--> 296\u001b[0;31m         parse_constant=parse_constant, object_pairs_hook=object_pairs_hook, **kw)\n\u001b[0m\u001b[1;32m    297\u001b[0m \u001b[0;34m\u001b[0m\u001b[0m\n\u001b[1;32m    298\u001b[0m \u001b[0;34m\u001b[0m\u001b[0m\n",
      "\u001b[0;32m/Library/Frameworks/Python.framework/Versions/3.7/lib/python3.7/json/__init__.py\u001b[0m in \u001b[0;36mloads\u001b[0;34m(s, encoding, cls, object_hook, parse_float, parse_int, parse_constant, object_pairs_hook, **kw)\u001b[0m\n\u001b[1;32m    336\u001b[0m         \u001b[0;32mif\u001b[0m \u001b[0ms\u001b[0m\u001b[0;34m.\u001b[0m\u001b[0mstartswith\u001b[0m\u001b[0;34m(\u001b[0m\u001b[0;34m'\\ufeff'\u001b[0m\u001b[0;34m)\u001b[0m\u001b[0;34m:\u001b[0m\u001b[0;34m\u001b[0m\u001b[0;34m\u001b[0m\u001b[0m\n\u001b[1;32m    337\u001b[0m             raise JSONDecodeError(\"Unexpected UTF-8 BOM (decode using utf-8-sig)\",\n\u001b[0;32m--> 338\u001b[0;31m                                   s, 0)\n\u001b[0m\u001b[1;32m    339\u001b[0m     \u001b[0;32melse\u001b[0m\u001b[0;34m:\u001b[0m\u001b[0;34m\u001b[0m\u001b[0;34m\u001b[0m\u001b[0m\n\u001b[1;32m    340\u001b[0m         \u001b[0;32mif\u001b[0m \u001b[0;32mnot\u001b[0m \u001b[0misinstance\u001b[0m\u001b[0;34m(\u001b[0m\u001b[0ms\u001b[0m\u001b[0;34m,\u001b[0m \u001b[0;34m(\u001b[0m\u001b[0mbytes\u001b[0m\u001b[0;34m,\u001b[0m \u001b[0mbytearray\u001b[0m\u001b[0;34m)\u001b[0m\u001b[0;34m)\u001b[0m\u001b[0;34m:\u001b[0m\u001b[0;34m\u001b[0m\u001b[0;34m\u001b[0m\u001b[0m\n",
      "\u001b[0;31mJSONDecodeError\u001b[0m: Unexpected UTF-8 BOM (decode using utf-8-sig): line 1 column 1 (char 0)"
     ]
    }
   ],
   "source": [
    "import json\n",
    "\n",
    "with open('bubblechart.txt') as json_file:\n",
    "    data = json.load(json_file)"
   ]
  },
  {
   "cell_type": "code",
   "execution_count": null,
   "metadata": {},
   "outputs": [],
   "source": []
  }
 ],
 "metadata": {
  "kernelspec": {
   "display_name": "Python 3",
   "language": "python",
   "name": "python3"
  },
  "language_info": {
   "codemirror_mode": {
    "name": "ipython",
    "version": 3
   },
   "file_extension": ".py",
   "mimetype": "text/x-python",
   "name": "python",
   "nbconvert_exporter": "python",
   "pygments_lexer": "ipython3",
   "version": "3.7.2"
  }
 },
 "nbformat": 4,
 "nbformat_minor": 2
}
